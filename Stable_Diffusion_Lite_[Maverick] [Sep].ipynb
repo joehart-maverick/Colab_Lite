{
  "cells": [
    {
      "cell_type": "markdown",
      "metadata": {
        "id": "4X6nqvYZ7xBs"
      },
      "source": [
        "**StableDiffusion Google Colab Lite**\n",
        "\n",
        "_Kalian Nggak perlu nyiapin storage yang besar di google drive, soalnya setelah kalian close / disconnect dari google colab maka akan secara otomatis menghapus semua data dan script colab stablediffusion yang akan kalian pakai ini. Dan juga colab ini free, tidak memerlukan high spec computer buat jalanin scriptnya dikarenakan kita akan meminjam GPU dari mbah gugel buat ngejalanin semuanya, jika ada error atau apapun silahkan contact saya di [Maverick](https://instagram.com/joehart_maverick)._"
      ]
    },
    {
      "cell_type": "code",
      "execution_count": null,
      "metadata": {
        "cellView": "form",
        "id": "ciseg_wdLz3S"
      },
      "outputs": [],
      "source": [
        "#@markdown # **Persiapan**\n",
        "#@markdown ## Menyiapkan Data\n",
        "from IPython.display import clear_output\n",
        "\n",
        "print('\u001b[1;32mOrang Sabar Dibenci Setan...')\n",
        "#%pip install --quiet blendmodes accelerate basicsr fonts font-roboto gfpgan gradio invisible-watermark numpy omegaconf opencv-contrib-python requests piexif Pillow pytorch-lightning==1.7.7 realesrgan scikit-image==0.19 timm==0.4.12 transformers==4.25.1 torch einops jsonmerge clean-fid resize-right torchdiffeq kornia lark inflection GitPython torchsde safetensors psutil rich\n",
        "#%cd /content/\n",
        "!git clone -q --branch main https://github.com/joehart-maverick/Lite_Colab-main\n",
        "%cd /content/Lite_Colab-main\n",
        "%pip install -r requirements.txt --quiet\n",
        "!sed -i \"s@os.path.splitext(checkpoint_file)@os.path.splitext(checkpoint_file); map_location='cuda'@\" /content/Lite_Colab-main/modules/sd_models.py\n",
        "!sed -i 's@ui.create_ui().*@ui.create_ui();shared.demo.queue(concurrency_count=999999,status_update_rate=0.1)@' /content/Lite_Colab-main/startfk.py\n",
        "!sed -i \"s@map_location='cpu'@map_location='cuda'@\" /content/Lite_Colab-main/modules/extras.py\n",
        "!cp /content/Lite_Colab-main/assets/blocks.py /usr/local/lib/python3.10/dist-packages/gradio/blocks.py\n",
        "#Download TagAutoComplete\n",
        "!curl -Lo /content/Lite_Colab-main/extensions/tagcomplete-main.zip https://huggingface.co/JoeHart/generate-ai/resolve/main/tagcomplete-main.zip\n",
        "%cd /content/Lite_Colab-main/extensions\n",
        "!unzip /content/Lite_Colab-main/extensions/tagcomplete-main.zip\n",
        "#Download VAE\n",
        "%cd /content/Lite_Colab-main\n",
        "!curl -Lo /content/Lite_Colab-main/models/VAE/vae-ft-mse-840000-ema-pruned.ckpt https://huggingface.co/stabilityai/sd-vae-ft-mse-original/resolve/main/vae-ft-mse-840000-ema-pruned.ckpt\n",
        "clear_output()\n",
        "print('\u001b[1;32mRampung Gaes!')\n",
        "#!python launch.py --share --theme dark --api --ckpt-dir /content/models/ --disable-safe-unpickle --enable-insecure-extension-access --opt-sdp-attention --disable-console-progressbars --no-download-sd-model"
      ]
    },
    {
      "cell_type": "code",
      "execution_count": null,
      "metadata": {
        "cellView": "form",
        "id": "QnLCXo9BTYOa"
      },
      "outputs": [],
      "source": [
        "#@markdown # **DOWNLOAD MODEL**\n",
        "#@markdown ## Pilih Model\n",
        "#@markdown Copy dan Paste Download Link dari model yang bisa kalian cari di civitai / huggingface\n",
        "\n",
        "#@markdown Contoh disini saya menggunakan Model RevAnimated dari website Civitai.com\n",
        "MODEL_LINK = \"https://civitai.com/api/download/models/46846\" #@param {type:\"string\"}\n",
        "safetensors = True #@param {type:\"boolean\"}\n",
        "\n",
        "if MODEL_LINK != \"\":\n",
        "  pth = '/content/Lite_Colab-main/models/Stable-diffusion/'\n",
        "  if not safetensors:\n",
        "    modelname=\"model.ckpt\"\n",
        "  else:\n",
        "    modelname=\"model.safetensors\"\n",
        "  dwnld = pth + modelname\n",
        "  print('\u001b[1;32mDownload model...')\n",
        "  !gdown --fuzzy -O $dwnld \"$MODEL_LINK\"\n",
        "  clear_output()\n",
        "  print('\u001b[1;32mRampung Meneh Gaes!')\n",
        "else:\n",
        "  print('\u001b[1;31mPaste model link and try again!')\n",
        "\n"
      ]
    },
    {
      "cell_type": "code",
      "execution_count": null,
      "metadata": {
        "cellView": "form",
        "id": "HAFOrFrYyZaY"
      },
      "outputs": [],
      "source": [
        "#@markdown # **START StableDiffusion**\n",
        "#@markdown ## Jika muncul link gradio.live silahkan di click\n",
        "!sed -i -e 's/\\\"sd_model_checkpoint\\\"\\,/\\\"sd_model_checkpoint\\,sd_vae\\,CLIP_stop_at_last_layers\\\"\\,/g' /content/Lite_Colab-main/modules/shared.py\n",
        "!python launch.py --share --api --disable-safe-unpickle --enable-insecure-extension-access --opt-sdp-attention --disable-console-progressbars --no-download-sd-model --theme dark"
      ]
    },
    {
      "cell_type": "markdown",
      "metadata": {
        "id": "2g9c90Rs12kb"
      },
      "source": [
        "<form action=\"https://www.paypal.com/cgi-bin/webscr\" method=\"post\" target=\"_top\">\n",
        "  <input type=\"hidden\" name=\"cmd\" value=\"_s-xclick\" />\n",
        "  <input type=\"hidden\" name=\"hosted_button_id\" value=\"MDH8APKUVYW4L\" />\n",
        "  <table>\n",
        "    <tr>\n",
        "      <td>\n",
        "        <input type=\"hidden\" name=\"on0\" value=\"Thank you for donation!:)\"/>\n",
        "        Thank you for donation!:)\n",
        "      </td>\n",
        "    </tr>\n",
        "    <tr>\n",
        "      <td>\n",
        "        <input type=\"text\" name=\"os0\" maxLength=\"200\" />\n",
        "      </td>\n",
        "    </tr>\n",
        "  </table>\n",
        "  <input type=\"hidden\" name=\"currency_code\" value=\"USD\" />\n",
        "  <input type=\"image\" src=\"https://www.paypalobjects.com/en_US/i/btn/btn_paynowCC_LG.gif\" border=\"0\" name=\"submit\" title=\"PayPal - The safer, easier way to pay online!\" alt=\"Buy Now\" />\n",
        "</form>"
      ]
    }
  ],
  "metadata": {
    "accelerator": "GPU",
    "colab": {
      "provenance": []
    },
    "gpuClass": "standard",
    "kernelspec": {
      "display_name": "Python 3",
      "name": "python3"
    },
    "language_info": {
      "name": "python"
    }
  },
  "nbformat": 4,
  "nbformat_minor": 0
}